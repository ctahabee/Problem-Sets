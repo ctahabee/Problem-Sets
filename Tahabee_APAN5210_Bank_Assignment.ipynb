{
 "cells": [
  {
   "cell_type": "markdown",
   "metadata": {},
   "source": [
    "_Chowdhury Walid Tahabee_\n",
    "\n",
    "APAN5105 - Python for Data Analysis\n",
    "\n",
    "__Banking Assignment__\n",
    "\n",
    "_04-03-2021_"
   ]
  },
  {
   "cell_type": "markdown",
   "metadata": {},
   "source": [
    "## Assignment 2 - please answer the questions as thoroughly as possible, and provide detailed interpretation whenever possible"
   ]
  },
  {
   "cell_type": "code",
   "execution_count": 623,
   "metadata": {},
   "outputs": [
    {
     "data": {
      "text/html": [
       "<div>\n",
       "<style scoped>\n",
       "    .dataframe tbody tr th:only-of-type {\n",
       "        vertical-align: middle;\n",
       "    }\n",
       "\n",
       "    .dataframe tbody tr th {\n",
       "        vertical-align: top;\n",
       "    }\n",
       "\n",
       "    .dataframe thead th {\n",
       "        text-align: right;\n",
       "    }\n",
       "</style>\n",
       "<table border=\"1\" class=\"dataframe\">\n",
       "  <thead>\n",
       "    <tr style=\"text-align: right;\">\n",
       "      <th></th>\n",
       "      <th>Bank Name</th>\n",
       "      <th>City</th>\n",
       "      <th>ST</th>\n",
       "      <th>CERT</th>\n",
       "      <th>Acquiring Institution</th>\n",
       "      <th>Closing Date</th>\n",
       "      <th>Updated Date</th>\n",
       "    </tr>\n",
       "  </thead>\n",
       "  <tbody>\n",
       "    <tr>\n",
       "      <th>0</th>\n",
       "      <td>Washington Federal Bank for Savings</td>\n",
       "      <td>Chicago</td>\n",
       "      <td>IL</td>\n",
       "      <td>30570</td>\n",
       "      <td>Royal Savings Bank</td>\n",
       "      <td>15-Dec-17</td>\n",
       "      <td>21-Feb-18</td>\n",
       "    </tr>\n",
       "    <tr>\n",
       "      <th>1</th>\n",
       "      <td>The Farmers and Merchants State Bank of Argonia</td>\n",
       "      <td>Argonia</td>\n",
       "      <td>KS</td>\n",
       "      <td>17719</td>\n",
       "      <td>Conway Bank</td>\n",
       "      <td>13-Oct-17</td>\n",
       "      <td>21-Feb-18</td>\n",
       "    </tr>\n",
       "    <tr>\n",
       "      <th>2</th>\n",
       "      <td>Fayette County Bank</td>\n",
       "      <td>Saint Elmo</td>\n",
       "      <td>IL</td>\n",
       "      <td>1802</td>\n",
       "      <td>United Fidelity Bank, fsb</td>\n",
       "      <td>26-May-17</td>\n",
       "      <td>26-Jul-17</td>\n",
       "    </tr>\n",
       "    <tr>\n",
       "      <th>3</th>\n",
       "      <td>Guaranty Bank, (d/b/a BestBank in Georgia &amp; Mi...</td>\n",
       "      <td>Milwaukee</td>\n",
       "      <td>WI</td>\n",
       "      <td>30003</td>\n",
       "      <td>First-Citizens Bank &amp; Trust Company</td>\n",
       "      <td>5-May-17</td>\n",
       "      <td>26-Jul-17</td>\n",
       "    </tr>\n",
       "    <tr>\n",
       "      <th>4</th>\n",
       "      <td>First NBC Bank</td>\n",
       "      <td>New Orleans</td>\n",
       "      <td>LA</td>\n",
       "      <td>58302</td>\n",
       "      <td>Whitney Bank</td>\n",
       "      <td>28-Apr-17</td>\n",
       "      <td>5-Dec-17</td>\n",
       "    </tr>\n",
       "  </tbody>\n",
       "</table>\n",
       "</div>"
      ],
      "text/plain": [
       "                                           Bank Name         City  ST   CERT  \\\n",
       "0                Washington Federal Bank for Savings      Chicago  IL  30570   \n",
       "1    The Farmers and Merchants State Bank of Argonia      Argonia  KS  17719   \n",
       "2                                Fayette County Bank   Saint Elmo  IL   1802   \n",
       "3  Guaranty Bank, (d/b/a BestBank in Georgia & Mi...    Milwaukee  WI  30003   \n",
       "4                                     First NBC Bank  New Orleans  LA  58302   \n",
       "\n",
       "                 Acquiring Institution Closing Date Updated Date  \n",
       "0                   Royal Savings Bank    15-Dec-17    21-Feb-18  \n",
       "1                          Conway Bank    13-Oct-17    21-Feb-18  \n",
       "2            United Fidelity Bank, fsb    26-May-17    26-Jul-17  \n",
       "3  First-Citizens Bank & Trust Company     5-May-17    26-Jul-17  \n",
       "4                         Whitney Bank    28-Apr-17     5-Dec-17  "
      ]
     },
     "execution_count": 623,
     "metadata": {},
     "output_type": "execute_result"
    }
   ],
   "source": [
    "import pandas as pd\n",
    "from pandas import Series\n",
    "df=pd.read_csv(\"banklist.csv\")\n",
    "df.head()\n",
    "#print(len(df))"
   ]
  },
  {
   "cell_type": "markdown",
   "metadata": {},
   "source": [
    "## Question 1 (20 points)"
   ]
  },
  {
   "cell_type": "markdown",
   "metadata": {
    "collapsed": true
   },
   "source": [
    "Look at the data set: First, make sure there are no missing values in\n",
    "any of the categorical columns.If there are, replace them with\n",
    "a 'M' value. Then, consider that Acquiring Institution column is the institution that holds various banks.\n",
    "__What are the top 4 acquiring institutions?__"
   ]
  },
  {
   "cell_type": "code",
   "execution_count": 624,
   "metadata": {},
   "outputs": [
    {
     "data": {
      "text/plain": [
       "False    555\n",
       "Name: Bank Name, dtype: int64"
      ]
     },
     "execution_count": 624,
     "metadata": {},
     "output_type": "execute_result"
    }
   ],
   "source": [
    "df['Bank Name'].isnull().value_counts()"
   ]
  },
  {
   "cell_type": "code",
   "execution_count": 625,
   "metadata": {},
   "outputs": [
    {
     "data": {
      "text/plain": [
       "False    555\n",
       "Name: City, dtype: int64"
      ]
     },
     "execution_count": 625,
     "metadata": {},
     "output_type": "execute_result"
    }
   ],
   "source": [
    "df['City'].isnull().value_counts()"
   ]
  },
  {
   "cell_type": "code",
   "execution_count": 626,
   "metadata": {},
   "outputs": [
    {
     "data": {
      "text/plain": [
       "False    555\n",
       "Name: ST, dtype: int64"
      ]
     },
     "execution_count": 626,
     "metadata": {},
     "output_type": "execute_result"
    }
   ],
   "source": [
    "df['ST'].isnull().value_counts()"
   ]
  },
  {
   "cell_type": "code",
   "execution_count": 627,
   "metadata": {},
   "outputs": [
    {
     "data": {
      "text/plain": [
       "False    555\n",
       "Name: Acquiring Institution, dtype: int64"
      ]
     },
     "execution_count": 627,
     "metadata": {},
     "output_type": "execute_result"
    }
   ],
   "source": [
    "df['Acquiring Institution'].isnull().value_counts()"
   ]
  },
  {
   "cell_type": "markdown",
   "metadata": {},
   "source": [
    "__Thus, no missing values in categorical columns__"
   ]
  },
  {
   "cell_type": "code",
   "execution_count": 628,
   "metadata": {},
   "outputs": [
    {
     "data": {
      "text/plain": [
       "No Acquirer                            31\n",
       "State Bank and Trust Company           12\n",
       "First-Citizens Bank & Trust Company    11\n",
       "Ameris Bank                            10\n",
       "U.S. Bank N.A.                          9\n",
       "                                       ..\n",
       "Hillcrest Bank, N.A.                    1\n",
       "Central Bank & Trust                    1\n",
       "The National Bank and Trust Company     1\n",
       "Landmark Bank, National Association     1\n",
       "The Pecos County State Bank             1\n",
       "Name: Acquiring Institution, Length: 290, dtype: int64"
      ]
     },
     "execution_count": 628,
     "metadata": {},
     "output_type": "execute_result"
    }
   ],
   "source": [
    "df['Acquiring Institution'].value_counts()"
   ]
  },
  {
   "cell_type": "markdown",
   "metadata": {},
   "source": [
    "__Thus, top 4 acquiring institutions are:__\n",
    "\n",
    "__1. State Bank and Trust Company__\n",
    "\n",
    "__2. First-Citizens Bank & Trust Company__\n",
    "\n",
    "__3. Ameris Bank__\n",
    "\n",
    "__4. U.S. Bank N.A.__"
   ]
  },
  {
   "cell_type": "markdown",
   "metadata": {
    "collapsed": true
   },
   "source": [
    "How many city names start with the letter 'A' and how many don't? Use the str vectorized series attribute"
   ]
  },
  {
   "cell_type": "code",
   "execution_count": 630,
   "metadata": {},
   "outputs": [
    {
     "name": "stdout",
     "output_type": "stream",
     "text": [
      "34 city names start with the letter A\n",
      "521 city names do not start with the letter A\n"
     ]
    }
   ],
   "source": [
    "cities = pd.Series(df['City'])\n",
    "cities_A = cities.str.startswith('A')\n",
    "cities_A_value_counts = cities_A.value_counts()\n",
    "\n",
    "print(str(cities_A_value_counts[1]) + \" city names start with the letter A\")\n",
    "print(str(cities_A_value_counts[0]) + \" city names do not start with the letter A\")"
   ]
  },
  {
   "cell_type": "markdown",
   "metadata": {
    "collapsed": true
   },
   "source": [
    "What are the cities whose names consist of 2 words and how many are there?"
   ]
  },
  {
   "cell_type": "code",
   "execution_count": 631,
   "metadata": {},
   "outputs": [
    {
     "data": {
      "text/plain": [
       "Las Vegas            4\n",
       "Los Angeles          4\n",
       "New York             2\n",
       "St. Louis            2\n",
       "San Diego            2\n",
       "                    ..\n",
       "Greenwood Village    1\n",
       "Cave Junction        1\n",
       "Palm Beach           1\n",
       "Peachtree City       1\n",
       "Port Orange          1\n",
       "Name: City, Length: 108, dtype: int64"
      ]
     },
     "execution_count": 631,
     "metadata": {},
     "output_type": "execute_result"
    }
   ],
   "source": [
    "df[df['City'].str.split().apply(len) == 2]['City'].value_counts()"
   ]
  },
  {
   "cell_type": "code",
   "execution_count": 632,
   "metadata": {},
   "outputs": [
    {
     "data": {
      "text/plain": [
       "1    417\n",
       "2    130\n",
       "3      8\n",
       "Name: City, dtype: int64"
      ]
     },
     "execution_count": 632,
     "metadata": {},
     "output_type": "execute_result"
    }
   ],
   "source": [
    "df['City'].str.split().apply(len).value_counts()"
   ]
  },
  {
   "cell_type": "markdown",
   "metadata": {},
   "source": [
    "__108 distinct cities whose names consist of 2 words, with total 130 records in the banklist.csv dataset (because some cities have multiple records)__"
   ]
  },
  {
   "cell_type": "markdown",
   "metadata": {},
   "source": [
    "## Question 2 (50 points)"
   ]
  },
  {
   "cell_type": "markdown",
   "metadata": {
    "collapsed": true
   },
   "source": [
    "Use various apply and group by methods studied in class to obtain the city for each state corresponding to the smallest number of certificates (CERT column). Then, display only the city, state combinations along with the number of certificates (data frame with 3 columns) for which the Acquiring Institution contains 3 words (for this exercise, you can count symbols like & and others as words for each Acquiring Institution)"
   ]
  },
  {
   "cell_type": "code",
   "execution_count": 637,
   "metadata": {},
   "outputs": [
    {
     "data": {
      "text/html": [
       "<div>\n",
       "<style scoped>\n",
       "    .dataframe tbody tr th:only-of-type {\n",
       "        vertical-align: middle;\n",
       "    }\n",
       "\n",
       "    .dataframe tbody tr th {\n",
       "        vertical-align: top;\n",
       "    }\n",
       "\n",
       "    .dataframe thead th {\n",
       "        text-align: right;\n",
       "    }\n",
       "</style>\n",
       "<table border=\"1\" class=\"dataframe\">\n",
       "  <thead>\n",
       "    <tr style=\"text-align: right;\">\n",
       "      <th></th>\n",
       "      <th>City</th>\n",
       "      <th>CERT</th>\n",
       "    </tr>\n",
       "    <tr>\n",
       "      <th>ST</th>\n",
       "      <th></th>\n",
       "      <th></th>\n",
       "    </tr>\n",
       "  </thead>\n",
       "  <tbody>\n",
       "    <tr>\n",
       "      <th>WA</th>\n",
       "      <td>Arlington</td>\n",
       "      <td>513</td>\n",
       "    </tr>\n",
       "    <tr>\n",
       "      <th>MO</th>\n",
       "      <td>Butler</td>\n",
       "      <td>1056</td>\n",
       "    </tr>\n",
       "    <tr>\n",
       "      <th>UT</th>\n",
       "      <td>Cottonwood Heights</td>\n",
       "      <td>1249</td>\n",
       "    </tr>\n",
       "    <tr>\n",
       "      <th>TN</th>\n",
       "      <td>Alamo</td>\n",
       "      <td>1690</td>\n",
       "    </tr>\n",
       "    <tr>\n",
       "      <th>MN</th>\n",
       "      <td>Andover</td>\n",
       "      <td>1909</td>\n",
       "    </tr>\n",
       "    <tr>\n",
       "      <th>CO</th>\n",
       "      <td>Castle Rock</td>\n",
       "      <td>2994</td>\n",
       "    </tr>\n",
       "    <tr>\n",
       "      <th>MD</th>\n",
       "      <td>Baltimore</td>\n",
       "      <td>4862</td>\n",
       "    </tr>\n",
       "    <tr>\n",
       "      <th>WI</th>\n",
       "      <td>Blanchardville</td>\n",
       "      <td>5287</td>\n",
       "    </tr>\n",
       "    <tr>\n",
       "      <th>NE</th>\n",
       "      <td>Lincoln</td>\n",
       "      <td>5431</td>\n",
       "    </tr>\n",
       "    <tr>\n",
       "      <th>FL</th>\n",
       "      <td>Apollo Beach</td>\n",
       "      <td>5672</td>\n",
       "    </tr>\n",
       "    <tr>\n",
       "      <th>IA</th>\n",
       "      <td>Johnston</td>\n",
       "      <td>14194</td>\n",
       "    </tr>\n",
       "    <tr>\n",
       "      <th>MS</th>\n",
       "      <td>Carthage</td>\n",
       "      <td>14273</td>\n",
       "    </tr>\n",
       "    <tr>\n",
       "      <th>LA</th>\n",
       "      <td>Cheneyville</td>\n",
       "      <td>16445</td>\n",
       "    </tr>\n",
       "    <tr>\n",
       "      <th>CT</th>\n",
       "      <td>Bridgeport</td>\n",
       "      <td>19183</td>\n",
       "    </tr>\n",
       "    <tr>\n",
       "      <th>CA</th>\n",
       "      <td>Bakersfield</td>\n",
       "      <td>22574</td>\n",
       "    </tr>\n",
       "    <tr>\n",
       "      <th>MA</th>\n",
       "      <td>Lowell</td>\n",
       "      <td>26619</td>\n",
       "    </tr>\n",
       "    <tr>\n",
       "      <th>NY</th>\n",
       "      <td>New York</td>\n",
       "      <td>26778</td>\n",
       "    </tr>\n",
       "    <tr>\n",
       "      <th>NV</th>\n",
       "      <td>Carson City</td>\n",
       "      <td>27011</td>\n",
       "    </tr>\n",
       "    <tr>\n",
       "      <th>SD</th>\n",
       "      <td>Sioux Falls</td>\n",
       "      <td>34103</td>\n",
       "    </tr>\n",
       "  </tbody>\n",
       "</table>\n",
       "</div>"
      ],
      "text/plain": [
       "                  City   CERT\n",
       "ST                           \n",
       "WA           Arlington    513\n",
       "MO              Butler   1056\n",
       "UT  Cottonwood Heights   1249\n",
       "TN               Alamo   1690\n",
       "MN             Andover   1909\n",
       "CO         Castle Rock   2994\n",
       "MD           Baltimore   4862\n",
       "WI      Blanchardville   5287\n",
       "NE             Lincoln   5431\n",
       "FL        Apollo Beach   5672\n",
       "IA            Johnston  14194\n",
       "MS            Carthage  14273\n",
       "LA         Cheneyville  16445\n",
       "CT          Bridgeport  19183\n",
       "CA         Bakersfield  22574\n",
       "MA              Lowell  26619\n",
       "NY            New York  26778\n",
       "NV         Carson City  27011\n",
       "SD         Sioux Falls  34103"
      ]
     },
     "execution_count": 637,
     "metadata": {},
     "output_type": "execute_result"
    }
   ],
   "source": [
    "mincert_by_st = df.groupby('ST').min().sort_values('CERT')\n",
    "mincert_by_st['inst_str_count'] = mincert_by_st['Acquiring Institution'].str.split().apply(len) #constructing a column for word count in acquiring instution\n",
    "mincert_by_st[mincert_by_st['inst_str_count'] == 3][['City', 'CERT']] #subsetting acquiring instituions with 3 words"
   ]
  },
  {
   "cell_type": "markdown",
   "metadata": {},
   "source": [
    "## Question 3 (30 points)"
   ]
  },
  {
   "cell_type": "markdown",
   "metadata": {
    "collapsed": true
   },
   "source": [
    "Finally, let us obtain a distribution of CERT column across all records. Then, let us subset the original data frame to only consider records for which CERT is smaller than 10th percentile of the total. Then, for these records, use pivot table method to obtain the min, max, and average CERT for each ST combination for which the number of records is more than 1. We will have index for state, and then 4 columns: ST,min_CERT, max_CERT, mean_CERT for CERT (make sure you do not have a multi-level data frame! Finally, display a bar plot for the first 3 states in the resulting data frame: each of the 3 states will be on x axis, and the corresponding 3 summary statistics will be the 3 bars - stacked bar plot."
   ]
  },
  {
   "cell_type": "code",
   "execution_count": 636,
   "metadata": {},
   "outputs": [
    {
     "data": {
      "text/plain": [
       "<AxesSubplot:xlabel='ST'>"
      ]
     },
     "execution_count": 636,
     "metadata": {},
     "output_type": "execute_result"
    },
    {
     "data": {
      "image/png": "[encoded data removed]",
      "text/plain": [
       "<Figure size 432x288 with 1 Axes>"
      ]
     },
     "metadata": {
      "needs_background": "light"
     },
     "output_type": "display_data"
    },
    {
     "data": {
      "image/png": "[encoded data removed]",
      "text/plain": [
       "<Figure size 432x288 with 1 Axes>"
      ]
     },
     "metadata": {
      "needs_background": "light"
     },
     "output_type": "display_data"
    }
   ],
   "source": [
    "df.hist()\n",
    "CERT_10 = df['CERT'].quantile(0.1) #10th percentile of CERT\n",
    "df_subset = df[df['CERT'] < CERT_10] #subsetting values below 10th percentile of CERT\n",
    "df_subset_2 = df_subset[\n",
    "    df_subset.groupby('ST')['CERT'].transform('size') > 1] #subsetting values for which number of ST records > 1\n",
    "#df_subset_2.value_counts('ST') #Remove '#' to check that df only includes states with multiple records\n",
    "pivot = df_subset_2.pivot_table('CERT', index = ['ST'], aggfunc = ['min','max','mean'])\n",
    "pivot.columns = pd.MultiIndex.from_tuples([('CERT', 'min_CERT'), ('CERT', 'max_CERT'), ('CERT','mean_CERT')])\n",
    "pivot.columns = pivot.columns.droplevel()\n",
    "pivot[:3].plot.bar(stacked = True)"
   ]
  }
 ],
 "metadata": {
  "kernelspec": {
   "display_name": "Python 3",
   "language": "python",
   "name": "python3"
  },
  "language_info": {
   "codemirror_mode": {
    "name": "ipython",
    "version": 3
   },
   "file_extension": ".py",
   "mimetype": "text/x-python",
   "name": "python",
   "nbconvert_exporter": "python",
   "pygments_lexer": "ipython3",
   "version": "3.8.5"
  }
 },
 "nbformat": 4,
 "nbformat_minor": 2
}

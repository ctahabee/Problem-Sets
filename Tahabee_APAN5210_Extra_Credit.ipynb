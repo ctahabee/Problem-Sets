{
 "cells": [
  {
   "cell_type": "markdown",
   "metadata": {},
   "source": [
    "__Name:__ Chowdhury Walid Tahabee\n",
    "\n",
    "__UNI:__ ct3027\n",
    "\n",
    "__Course:___ APAN5210: Python for Data Analysis\n",
    "\n",
    "__Date:__ _03/13/2021_"
   ]
  },
  {
   "cell_type": "markdown",
   "metadata": {},
   "source": [
    "## Mid Term Exam Extra Credit Assignment"
   ]
  },
  {
   "cell_type": "markdown",
   "metadata": {},
   "source": [
    "### Code for Questions 1-7"
   ]
  },
  {
   "cell_type": "code",
   "execution_count": 1,
   "metadata": {},
   "outputs": [],
   "source": [
    "class ColumbiaCourse():\n",
    "    def __init__(self, CourseID, CourseName, Term):\n",
    "        self.__CourseID=CourseID\n",
    "        self.__CourseName=CourseName\n",
    "        self.__Term=Term\n",
    "    def getCourseID(self):\n",
    "        return self.__CourseID\n",
    "    def getCourseName(self):\n",
    "        return self.__CourseName\n",
    "    def setCourseStartDate(self,startdate):\n",
    "        self.__CourseStartDate=startdate\n",
    "    def getCourseStartDate(self):\n",
    "        return self.__CourseStartDate\n",
    "    \n",
    "class SPSCourse(ColumbiaCourse):\n",
    "    def __init__(self, CID, CName, CTerm, CourseLoc, CourseLec, CourseLecAssist):\n",
    "        ColumbiaCourse(CID, CName, CTerm)\n",
    "        self.__CourseLocation=CourseLoc\n",
    "        self.__CourseLecturer=CourseLec\n",
    "        self.__CourseLecturerAssistant=CourseLecAssist\n",
    "    def setCourseLocation(self, CLoc):\n",
    "        self.__CourseLocation=CLoc\n",
    "    def getCourseLocation(self):\n",
    "        return self.__CourseLocation\n",
    "    def setCourseLecturer(self, CourseLec):\n",
    "        self.__CourseLecturer=CourseLec\n",
    "    def getCourseLecturer(self):\n",
    "        return self.__CourseLecturer"
   ]
  },
  {
   "cell_type": "markdown",
   "metadata": {},
   "source": [
    "### 1.\tWhich of the following is True about the __init__ method defined in Class ColumbiaCourse? "
   ]
  },
  {
   "cell_type": "markdown",
   "metadata": {},
   "source": [
    "A.\tIt displays the properties of the Class ColumbiaCourse\n",
    "\n",
    "B.\tIt is a Value returning method \n",
    "\n",
    "___C.\tIt is a Constructor method for that class___\n",
    "\n",
    "D.\tNone of the above"
   ]
  },
  {
   "cell_type": "markdown",
   "metadata": {},
   "source": [
    "### 2.\tWhich of the following represents a template, blueprint, or contract that defines objects of      the same type?                             "
   ]
  },
  {
   "cell_type": "markdown",
   "metadata": {},
   "source": [
    "___A. Class Definition___\n",
    "\n",
    "B. A returning value method\n",
    "\n",
    "C. Class instance\n",
    "\n",
    "D. None of the above"
   ]
  },
  {
   "cell_type": "markdown",
   "metadata": {},
   "source": [
    "### 3.\tThe constructor method of the child class SPSCourse invokes the constructor of parent class, ColumbiaCourse. "
   ]
  },
  {
   "cell_type": "markdown",
   "metadata": {},
   "source": [
    "A.\tTrue\n",
    "\n",
    "***B.\tFalse***"
   ]
  },
  {
   "cell_type": "markdown",
   "metadata": {},
   "source": [
    "### 4. We want to create an instance of  class ColumbiaCourse for our course. How would you go about doing this? Please select correct answer. "
   ]
  },
  {
   "cell_type": "code",
   "execution_count": 2,
   "metadata": {},
   "outputs": [
    {
     "name": "stdout",
     "output_type": "stream",
     "text": [
      "A results in TypeError! Because, \n",
      "(\"__init__() missing 2 required positional arguments: 'CourseName' and 'Term'\",)\n",
      "A is the WRONG ANSWER!\n"
     ]
    }
   ],
   "source": [
    "#A.\n",
    "Answer = 'A'\n",
    "try:\n",
    "    ColumbiaCourse('APANPS5210')\n",
    "    ColumbiaCourse('Spring-2021')\n",
    "    print(Answer+' is the correct answer!')\n",
    "except Exception as ex:\n",
    "    template = Answer+\" results in {0}! Because, \\n{1!r}\"\n",
    "    message = template.format(type(ex).__name__, ex.args)\n",
    "    print(message)\n",
    "    print(Answer+\" is the WRONG ANSWER!\")"
   ]
  },
  {
   "cell_type": "code",
   "execution_count": 3,
   "metadata": {},
   "outputs": [
    {
     "name": "stdout",
     "output_type": "stream",
     "text": [
      "B results in TypeError! Because, \n",
      "(\"__init__() missing 2 required positional arguments: 'CourseName' and 'Term'\",)\n",
      "B is the WRONG ANSWER!\n"
     ]
    }
   ],
   "source": [
    "#B.\n",
    "Answer = 'B'\n",
    "try:\n",
    "    ColumbiaCourse('APANPS5210')\n",
    "    ColumbiaCourse('Python for Data Analysis')\n",
    "    print(Answer+' is the correct answer!')\n",
    "except Exception as ex:\n",
    "    template = Answer+\" results in {0}! Because, \\n{1!r}\"\n",
    "    message = template.format(type(ex).__name__, ex.args)\n",
    "    print(message)\n",
    "    print(Answer+\" is the WRONG ANSWER!\")"
   ]
  },
  {
   "cell_type": "code",
   "execution_count": 4,
   "metadata": {},
   "outputs": [
    {
     "name": "stdout",
     "output_type": "stream",
     "text": [
      "C is the correct answer!\n"
     ]
    }
   ],
   "source": [
    "#C. \n",
    "Answer = 'C'\n",
    "try:\n",
    "    ColumbiaCourse('APANPS5210', 'Python For Data Analysis', 'Spring-2021')\n",
    "    print(Answer+' is the correct answer!')\n",
    "except Exception as ex:\n",
    "    template = Answer+\" results in {0}! Because, \\n{1!r}\"\n",
    "    message = template.format(type(ex).__name__, ex.args)\n",
    "    print(message)\n",
    "    print(Answer+\" is the WRONG ANSWER!\")"
   ]
  },
  {
   "cell_type": "markdown",
   "metadata": {},
   "source": [
    "A.\tColumbiaCourse(‘APANPS5210’) and Then ColumbiaCouse(‘Spring-2021’)\n",
    "\n",
    "B.\tColumbiaCourse(‘APANPS5210’) and Then ColumbiaCouse(‘Python For Data Analysis’)\n",
    "\n",
    "___C.\tColumbiaCourse(‘APANPS5210’, ‘Python For Data Analysis’, ‘Spring-2021’)___\n",
    "\n",
    "D.\tNone of the Above"
   ]
  },
  {
   "cell_type": "markdown",
   "metadata": {},
   "source": [
    "### 5.\tSuppose c1 is an instance of class ColumbiaCourse. Which code would you use to retrive the course name ? (1 pt)            "
   ]
  },
  {
   "cell_type": "code",
   "execution_count": 5,
   "metadata": {},
   "outputs": [],
   "source": [
    "c1 = ColumbiaCourse('APAN5210', 'Python for Data Analysis', 'Spring 2021')"
   ]
  },
  {
   "cell_type": "code",
   "execution_count": 6,
   "metadata": {},
   "outputs": [
    {
     "name": "stdout",
     "output_type": "stream",
     "text": [
      "A results in TypeError! Because, \n",
      "('getCourseName() takes 1 positional argument but 2 were given',)\n",
      "A is the WRONG ANSWER!\n"
     ]
    }
   ],
   "source": [
    "#A. \n",
    "Answer = 'A'\n",
    "try:\n",
    "    c1.getCourseName('APAN5210')\n",
    "    print(Answer+' is the correct answer!')\n",
    "except Exception as ex:\n",
    "    template = Answer+\" results in {0}! Because, \\n{1!r}\"\n",
    "    message = template.format(type(ex).__name__, ex.args)\n",
    "    print(message)\n",
    "    print(Answer+\" is the WRONG ANSWER!\")"
   ]
  },
  {
   "cell_type": "code",
   "execution_count": 7,
   "metadata": {},
   "outputs": [
    {
     "name": "stdout",
     "output_type": "stream",
     "text": [
      "B is the correct answer!\n"
     ]
    }
   ],
   "source": [
    "#B. \n",
    "Answer = 'B'\n",
    "try:\n",
    "    c1.getCourseName()\n",
    "    print(Answer+' is the correct answer!')\n",
    "except Exception as ex:\n",
    "    template = Answer+\" results in {0}! Because, \\n{1!r}\"\n",
    "    message = template.format(type(ex).__name__, ex.args)\n",
    "    print(message)\n",
    "    print(Answer+\" is the WRONG ANSWER!\")"
   ]
  },
  {
   "cell_type": "markdown",
   "metadata": {},
   "source": [
    "A.  c1.getCourseName(‘APAN5210’)\n",
    "\n",
    "___B.  c1.getCourseName()___\n",
    "\n",
    "C.  Both A & B\n",
    "\n",
    "D.  None of the above. \n"
   ]
  },
  {
   "cell_type": "markdown",
   "metadata": {},
   "source": [
    "### 6.\tNow, you want to set the Course Start Date.  You will do this by using the following: c1.setCourseStartDate(‘1-11-2021’). Printing this command will give you the birthday.  (T or F?) (1 pt)    "
   ]
  },
  {
   "cell_type": "code",
   "execution_count": 8,
   "metadata": {},
   "outputs": [],
   "source": [
    "c1.setCourseStartDate('1-11-2021')"
   ]
  },
  {
   "cell_type": "code",
   "execution_count": 9,
   "metadata": {},
   "outputs": [
    {
     "name": "stdout",
     "output_type": "stream",
     "text": [
      "None\n"
     ]
    }
   ],
   "source": [
    "print(c1.setCourseStartDate('1-11-2021'))"
   ]
  },
  {
   "cell_type": "markdown",
   "metadata": {},
   "source": [
    "A.\tTrue\n",
    "\n",
    "___B.\tFalse___"
   ]
  },
  {
   "cell_type": "markdown",
   "metadata": {},
   "source": [
    "### 7.\tYou want to add a SPSCourse and the data for this instance include: Course ID is ‘APANPS5211’, Course Name is ‘Machine Learning’, Course Term is ‘Summer 2021’, Course Location is ‘LEW-Room 212’, Course Lecturer is ‘Michael Chen’, Course Lec Assistant is ‘Susan Ling’. How would you go about doing this?"
   ]
  },
  {
   "cell_type": "code",
   "execution_count": 10,
   "metadata": {},
   "outputs": [
    {
     "name": "stdout",
     "output_type": "stream",
     "text": [
      "A results in TypeError! Because, \n",
      "('__init__() takes 4 positional arguments but 7 were given',)\n",
      "A is the WRONG ANSWER!\n"
     ]
    }
   ],
   "source": [
    "#A.\n",
    "Answer = \"A\"\n",
    "try:\n",
    "    ColumbiaCourse('APANPS5211', 'Machine Learning', 'Summer – 2020', 'LEW-Room 212', 'Michael Chen', 'Susan Ling')\n",
    "    print(Answer+' is the correct answer!')\n",
    "except Exception as ex:\n",
    "    template = Answer+\" results in {0}! Because, \\n{1!r}\"\n",
    "    message = template.format(type(ex).__name__, ex.args)\n",
    "    print(message)\n",
    "    print(Answer+\" is the WRONG ANSWER!\")"
   ]
  },
  {
   "cell_type": "code",
   "execution_count": 11,
   "metadata": {},
   "outputs": [
    {
     "name": "stdout",
     "output_type": "stream",
     "text": [
      "B results in TypeError! Because, \n",
      "(\"__init__() missing 3 required positional arguments: 'CourseLoc', 'CourseLec', and 'CourseLecAssist'\",)\n",
      "B is the WRONG ANSWER!\n"
     ]
    }
   ],
   "source": [
    "#B.\n",
    "Answer = \"B\"\n",
    "try:\n",
    "    ColumbiaCourse('APANPS5211', 'Machine Learning', 'Summer – 2021')\n",
    "    SPSCourse('LEW-Room 212', 'Michael Chen', 'Susan Ling')\n",
    "    print(Answer+' is the correct answer!')\n",
    "except Exception as ex:\n",
    "    template = Answer+\" results in {0}! Because, \\n{1!r}\"\n",
    "    message = template.format(type(ex).__name__, ex.args)\n",
    "    print(message)\n",
    "    print(Answer+\" is the WRONG ANSWER!\")"
   ]
  },
  {
   "cell_type": "code",
   "execution_count": 12,
   "metadata": {},
   "outputs": [
    {
     "name": "stdout",
     "output_type": "stream",
     "text": [
      "C is the correct answer!\n"
     ]
    }
   ],
   "source": [
    "#C.\n",
    "Answer = \"C\"\n",
    "try:\n",
    "    SPSCourse('APANPS5211', 'Machine Learning', 'Summer – 2021', 'LEW-Room 212', 'Michael Chen', 'Susan Ling')\n",
    "    print(Answer+' is the correct answer!')\n",
    "except Exception as ex:\n",
    "    template = Answer+\" results in {0}! Because, \\n{1!r}\"\n",
    "    message = template.format(type(ex).__name__, ex.args)\n",
    "    print(message)\n",
    "    print(Answer+\" is the WRONG ANSWER!\")"
   ]
  },
  {
   "cell_type": "markdown",
   "metadata": {},
   "source": [
    "A.\tColumbiaCourse('APANPS5211', 'Machine Learning’, ‘Summer – 2021’, ‘LEW-Room 212’, ‘Michael Chen’, ‘Susan Ling’)\n",
    "\n",
    "B.\tColumbiaCourse(‘APANPS5211’, 'Machine Learning’, ‘Summer – 2021’) and then SPSCourse (‘LEW-Room 212’, ‘Michael Chen’, ‘Susan Ling’)\n",
    "\n",
    "__C.\tSPSCourse('APANPS5211', 'Machine Learning’, ‘Summer – 2021’, ‘LEW-Room 212’, ‘Michael Chen’, ‘Susan Ling’)__\n",
    "\n",
    "D.\tNone of the above\n"
   ]
  },
  {
   "cell_type": "markdown",
   "metadata": {},
   "source": [
    "### Code for Questions 8-10"
   ]
  },
  {
   "cell_type": "code",
   "execution_count": 13,
   "metadata": {},
   "outputs": [],
   "source": [
    "class Product():\n",
    "    def __init__(self,ProductName,ProductPrice):\n",
    "        self.Name = ProductName.split(\"-\")[0]\n",
    "        self.Price= ProductPrice\n",
    "        \n",
    "    def Discount(self,percent):\n",
    "        self.Price = self.Price-self.Price*percent\n",
    "        return self.Price\n",
    "        \n",
    "    def Surcharge(self,amount):\n",
    "        self.Price  += amount\n",
    "        return self.Price\n",
    "    \n",
    "    def Fees(self):\n",
    "        if self.Price < 5:\n",
    "            fees = 0.1*self.Price\n",
    "        else:\n",
    "            fees = 0.15*self.Price\n",
    "        self.Price += fees\n",
    "        return self.Price\n"
   ]
  },
  {
   "cell_type": "markdown",
   "metadata": {},
   "source": [
    "### 8.\tWhich is the output of the code below?"
   ]
  },
  {
   "cell_type": "code",
   "execution_count": 14,
   "metadata": {},
   "outputs": [
    {
     "name": "stdout",
     "output_type": "stream",
     "text": [
      "Price for PVC is $ 5.445\n"
     ]
    }
   ],
   "source": [
    "product1 = Product('PVC-Pipe',5)\n",
    "product1.Discount(0.01)\n",
    "product1.Fees()\n",
    "print(\"Price for\",product1.Name,\"is $\",product1.Price)"
   ]
  },
  {
   "cell_type": "markdown",
   "metadata": {},
   "source": [
    "A.\tPrice for PVC-Pipe is $ 5\n",
    "\n",
    "B.\tPrice for PVC Pipe is $ 5.5\n",
    "\n",
    "___C.\tPrice for PVC is $ 5.445___\n",
    "\n",
    "D.\tPrice for PVC is $ 5.5\n",
    "\n",
    "E.\tPrice for P is $ 5.445"
   ]
  },
  {
   "cell_type": "markdown",
   "metadata": {},
   "source": [
    "### 9.\tWhat is the output of the code below? (1 pt)        "
   ]
  },
  {
   "cell_type": "code",
   "execution_count": 15,
   "metadata": {},
   "outputs": [
    {
     "name": "stdout",
     "output_type": "stream",
     "text": [
      "Price for B&D cordless drill is $ 56.465\n"
     ]
    }
   ],
   "source": [
    "product2 = Product('B&D cordless drill',45)\n",
    "product2.Discount(0.02)\n",
    "product2.Surcharge(5)\n",
    "product2.Fees()\n",
    "print(\"Price for\",product2.Name,\"is $\",product2.Price)"
   ]
  },
  {
   "cell_type": "markdown",
   "metadata": {},
   "source": [
    "A.\tPrice for B&D cordless drill is $ 50\n",
    "\n",
    "B.\tPrice for B&D-cordless-drill is $ 55\n",
    "\n",
    "C.\tPrice for B&D-cordless is $ 55\n",
    "\n",
    "___D.\tPrice for B&D cordless drill is $ 56.465___\n",
    "\n",
    "E.\tPrice for B is $ 56.465\n"
   ]
  },
  {
   "cell_type": "markdown",
   "metadata": {},
   "source": [
    "### 10.\tIf we want to add a fixed fee of `$2 only to the products with a price higher than `$20, which block of code should be used to replace the method \"Fees\"  in this class?"
   ]
  },
  {
   "cell_type": "code",
   "execution_count": 16,
   "metadata": {},
   "outputs": [],
   "source": [
    "price = 21"
   ]
  },
  {
   "cell_type": "markdown",
   "metadata": {},
   "source": [
    "Use the above code chunk to test for different prices"
   ]
  },
  {
   "cell_type": "code",
   "execution_count": 17,
   "metadata": {},
   "outputs": [
    {
     "name": "stdout",
     "output_type": "stream",
     "text": [
      "A results in UnboundLocalError! Because, \n",
      "(\"local variable 'Price' referenced before assignment\",)\n",
      "A is the WRONG ANSWER!\n"
     ]
    }
   ],
   "source": [
    "#A. \n",
    "Answer = \"A\"\n",
    "class Product():\n",
    "    def __init__(self,ProductName,ProductPrice):\n",
    "        self.Name = ProductName.split(\"-\")[0]\n",
    "        self.Price= ProductPrice\n",
    "        \n",
    "    def Discount(self,percent):\n",
    "        self.Price = self.Price-self.Price*percent\n",
    "        return self.Price\n",
    "        \n",
    "    def Surcharge(self,amount):\n",
    "        self.Price  += amount\n",
    "        return self.Price\n",
    "    \n",
    "    def Fees(self):\n",
    "        if Price > 20:\n",
    "            fees = 2\n",
    "        else:\n",
    "            fees=0\n",
    "        Price = Price+fees\n",
    "        return self.Price\n",
    "    \n",
    "try:\n",
    "    test_product = Product('test_product',price)\n",
    "    test_product.Fees()\n",
    "    \n",
    "    fee = int(test_product.Price - price)\n",
    "    \n",
    "    print(\"If price = $\",price,\"fees = $\", fee)\n",
    "    \n",
    "    print(Answer+\" is the correct answer!\")\n",
    "    \n",
    "except Exception as ex:\n",
    "    template = Answer+\" results in {0}! Because, \\n{1!r}\"\n",
    "    message = template.format(type(ex).__name__, ex.args)\n",
    "    print(message)\n",
    "    print(Answer+\" is the WRONG ANSWER!\")"
   ]
  },
  {
   "cell_type": "code",
   "execution_count": 18,
   "metadata": {},
   "outputs": [
    {
     "name": "stdout",
     "output_type": "stream",
     "text": [
      "B results in NameError! Because, \n",
      "(\"name 'Price' is not defined\",)\n",
      "B is the WRONG ANSWER!\n"
     ]
    }
   ],
   "source": [
    "#B. \n",
    "Answer = \"B\"\n",
    "class Product():\n",
    "    def __init__(self,ProductName,ProductPrice):\n",
    "        self.Name = ProductName.split(\"-\")[0]\n",
    "        self.Price= ProductPrice\n",
    "        \n",
    "    def Discount(self,percent):\n",
    "        self.Price = self.Price-self.Price*percent\n",
    "        return self.Price\n",
    "        \n",
    "    def Surcharge(self,amount):\n",
    "        self.Price  += amount\n",
    "        return self.Price\n",
    "    \n",
    "    def Fees(self):\n",
    "        if Price > 20:\n",
    "            fees = 2\n",
    "        else:\n",
    "            fees=0\n",
    "        self.Price = self.Price+fees\n",
    "        return self.Price\n",
    "\n",
    "try:\n",
    "    test_product = Product('test_product',price)\n",
    "    test_product.Fees()\n",
    "    \n",
    "    fee = int(test_product.Price - price)\n",
    "    \n",
    "    print(\"If price = $\",price,\"fees = $\", fee)\n",
    "    \n",
    "    print(Answer+\" is the correct answer!\")\n",
    "    \n",
    "except Exception as ex:\n",
    "    template = Answer+\" results in {0}! Because, \\n{1!r}\"\n",
    "    message = template.format(type(ex).__name__, ex.args)\n",
    "    print(message)\n",
    "    print(Answer+\" is the WRONG ANSWER!\")"
   ]
  },
  {
   "cell_type": "code",
   "execution_count": 19,
   "metadata": {},
   "outputs": [
    {
     "name": "stdout",
     "output_type": "stream",
     "text": [
      "C results in NameError! Because, \n",
      "(\"name 'Price' is not defined\",)\n",
      "C is the WRONG ANSWER!\n"
     ]
    }
   ],
   "source": [
    "#C. \n",
    "Answer = \"C\"\n",
    "class Product():\n",
    "    def __init__(self,ProductName,ProductPrice):\n",
    "        self.Name = ProductName.split(\"-\")[0]\n",
    "        self.Price= ProductPrice\n",
    "        \n",
    "    def Discount(self,percent):\n",
    "        self.Price = self.Price-self.Price*percent\n",
    "        return self.Price\n",
    "        \n",
    "    def Surcharge(self,amount):\n",
    "        self.Price  += amount\n",
    "        return self.Price\n",
    "    \n",
    "    def Fees(self):\n",
    "        if self.Price > 20:\n",
    "            fees = 2\n",
    "        else:\n",
    "            fees=0\n",
    "        self.Price = self.Price+fees\n",
    "        return Price\n",
    "    \n",
    "try:\n",
    "    test_product = Product('test_product',price)\n",
    "    test_product.Fees()\n",
    "    \n",
    "    fee = int(test_product.Price - price)\n",
    "    \n",
    "    print(\"If price = $\",price,\"fees = $\", fee)\n",
    "    \n",
    "    print(Answer+\" is the correct answer!\")\n",
    "    \n",
    "except Exception as ex:\n",
    "    template = Answer+\" results in {0}! Because, \\n{1!r}\"\n",
    "    message = template.format(type(ex).__name__, ex.args)\n",
    "    print(message)\n",
    "    print(Answer+\" is the WRONG ANSWER!\")"
   ]
  },
  {
   "cell_type": "code",
   "execution_count": 20,
   "metadata": {
    "scrolled": true
   },
   "outputs": [
    {
     "name": "stdout",
     "output_type": "stream",
     "text": [
      "If price = $ 21 fees = $ 2\n",
      "D is the correct answer!\n"
     ]
    }
   ],
   "source": [
    "#D.\n",
    "Answer = \"D\"\n",
    "class Product():\n",
    "    def __init__(self,ProductName,ProductPrice):\n",
    "        self.Name = ProductName.split(\"-\")[0]\n",
    "        self.Price= ProductPrice\n",
    "        \n",
    "    def Discount(self,percent):\n",
    "        self.Price = self.Price-self.Price*percent\n",
    "        return self.Price\n",
    "        \n",
    "    def Surcharge(self,amount):\n",
    "        self.Price  += amount\n",
    "        return self.Price\n",
    "    \n",
    "    def Fees(self):\n",
    "        if self.Price > 20:\n",
    "            fees = 2\n",
    "        else:\n",
    "            fees=0\n",
    "        self.Price = self.Price+fees\n",
    "        return self.Price\n",
    "\n",
    "try:\n",
    "    test_product = Product('test_product',price)\n",
    "    test_product.Fees()\n",
    "    \n",
    "    fee = int(test_product.Price - price)\n",
    "    \n",
    "    print(\"If price = $\",price,\"fees = $\", fee)\n",
    "    \n",
    "    print(Answer+\" is the correct answer!\")\n",
    "    \n",
    "except Exception as ex:\n",
    "    template = Answer+\" results in {0}! Because, \\n{1!r}\"\n",
    "    message = template.format(type(ex).__name__, ex.args)\n",
    "    print(message)\n",
    "    print(Answer+\" is the WRONG ANSWER!\")"
   ]
  },
  {
   "cell_type": "markdown",
   "metadata": {},
   "source": [
    "A.\tdef Fees(self):\n",
    "\n",
    "    if Price > 20:\n",
    "        fees = 2\n",
    "    else:\n",
    "        fees=0\n",
    "    Price = Price+fees\n",
    "    return self.Price\n",
    "\n",
    "B.\tdef Fees(self):\n",
    "\n",
    "    if Price > 20:\n",
    "        fees = 2\n",
    "    else:\n",
    "        fees=0\n",
    "    self.Price = self.Price+fees\n",
    "    return self.Price\n",
    "\n",
    "C.\tdef Fees(self):\n",
    "\n",
    "    if self.Price > 20:\n",
    "        fees = 2\n",
    "    else:\n",
    "        fees=0\n",
    "    self.Price = self.Price+fees\n",
    "    return Price\n",
    "\n",
    "\n",
    "***D.\tdef Fees(self):***\n",
    "\n",
    "    if self.Price > 20:\n",
    "        fees = 2\n",
    "    else:\n",
    "        fees=0\n",
    "    self.Price = self.Price+fees\n",
    "    return self.Price\n"
   ]
  }
 ],
 "metadata": {
  "kernelspec": {
   "display_name": "Python 3",
   "language": "python",
   "name": "python3"
  },
  "language_info": {
   "codemirror_mode": {
    "name": "ipython",
    "version": 3
   },
   "file_extension": ".py",
   "mimetype": "text/x-python",
   "name": "python",
   "nbconvert_exporter": "python",
   "pygments_lexer": "ipython3",
   "version": "3.8.5"
  }
 },
 "nbformat": 4,
 "nbformat_minor": 5
}
